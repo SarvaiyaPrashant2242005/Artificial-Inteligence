{
 "cells": [
  {
   "cell_type": "markdown",
   "id": "a5802fb9",
   "metadata": {},
   "source": [
    "Reinforcement Learning"
   ]
  },
  {
   "cell_type": "code",
   "execution_count": 25,
   "id": "8e474494",
   "metadata": {},
   "outputs": [],
   "source": [
    "import numpy as np \n",
    "import pylab as pl \n",
    "import networkx as nx"
   ]
  },
  {
   "cell_type": "markdown",
   "id": "66892e77",
   "metadata": {},
   "source": [
    "GRAPH DECLARATION"
   ]
  },
  {
   "cell_type": "code",
   "execution_count": 26,
   "id": "b6178c3e",
   "metadata": {},
   "outputs": [],
   "source": [
    "edges = [(0,1),(1,5),(1,2),(1,3),(5,4),(9,10),(2,4),(0,6),(2,4),(0,6),(6,7),(8,9),(7,8),(1,7),(3,9),(10,8),(10,10)]"
   ]
  },
  {
   "cell_type": "markdown",
   "id": "d007f14f",
   "metadata": {},
   "source": [
    "DEFINE R"
   ]
  },
  {
   "cell_type": "code",
   "execution_count": 27,
   "id": "3dcdf792",
   "metadata": {},
   "outputs": [
    {
     "data": {
      "text/plain": [
       "<function matplotlib.pyplot.show(close=None, block=None)>"
      ]
     },
     "execution_count": 27,
     "metadata": {},
     "output_type": "execute_result"
    },
    {
     "data": {
      "image/png": "[encoded data removed]",
      "text/plain": [
       "<Figure size 640x480 with 1 Axes>"
      ]
     },
     "metadata": {},
     "output_type": "display_data"
    }
   ],
   "source": [
    "goal=10\n",
    "G=nx.Graph()\n",
    "G.add_edges_from(edges)\n",
    "pos=nx.spring_layout(G)\n",
    "nx.draw_networkx_nodes(G,pos)\n",
    "nx.draw_networkx_edges(G,pos)\n",
    "nx.draw_networkx_labels(G,pos)\n",
    "pl.show"
   ]
  },
  {
   "cell_type": "markdown",
   "id": "ae5bbcbb",
   "metadata": {},
   "source": [
    "DEFINING R"
   ]
  },
  {
   "cell_type": "code",
   "execution_count": 28,
   "id": "4f0d6364",
   "metadata": {},
   "outputs": [
    {
     "data": {
      "text/plain": [
       "matrix([[-1., -1., -1., -1., -1., -1., -1., -1., -1., -1., -1.],\n",
       "        [-1., -1., -1., -1., -1., -1., -1., -1., -1., -1., -1.],\n",
       "        [-1., -1., -1., -1., -1., -1., -1., -1., -1., -1., -1.],\n",
       "        [-1., -1., -1., -1., -1., -1., -1., -1., -1., -1., -1.],\n",
       "        [-1., -1., -1., -1., -1., -1., -1., -1., -1., -1., -1.],\n",
       "        [-1., -1., -1., -1., -1., -1., -1., -1., -1., -1., -1.],\n",
       "        [-1., -1., -1., -1., -1., -1., -1., -1., -1., -1., -1.],\n",
       "        [-1., -1., -1., -1., -1., -1., -1., -1., -1., -1., -1.],\n",
       "        [-1., -1., -1., -1., -1., -1., -1., -1., -1., -1., -1.],\n",
       "        [-1., -1., -1., -1., -1., -1., -1., -1., -1., -1., -1.],\n",
       "        [-1., -1., -1., -1., -1., -1., -1., -1., -1., -1., -1.]])"
      ]
     },
     "execution_count": 28,
     "metadata": {},
     "output_type": "execute_result"
    }
   ],
   "source": [
    "Matrix_size=11\n",
    "R = np.matrix(np.ones(shape=(Matrix_size, Matrix_size)))\n",
    "R = R*-1\n",
    "R"
   ]
  },
  {
   "cell_type": "code",
   "execution_count": 29,
   "id": "d0fb0b4c",
   "metadata": {},
   "outputs": [],
   "source": [
    "for edge in edges:\n",
    "    if(edge[1] == goal):\n",
    "        R[edge] = 100\n",
    "    else:\n",
    "        R[edge] = 0\n",
    "    if(edge[0] == goal ):\n",
    "        R[edge[::1]] = 100\n",
    "    else:\n",
    "        R[edge[::-1]] = 0"
   ]
  },
  {
   "cell_type": "code",
   "execution_count": 30,
   "id": "0cd30b70",
   "metadata": {},
   "outputs": [
    {
     "name": "stdout",
     "output_type": "stream",
     "text": [
      "[[ -1.   0.  -1.  -1.  -1.  -1.   0.  -1.  -1.  -1.  -1.]\n",
      " [  0.  -1.   0.   0.  -1.   0.  -1.   0.  -1.  -1.  -1.]\n",
      " [ -1.   0.  -1.  -1.   0.  -1.  -1.  -1.  -1.  -1.  -1.]\n",
      " [ -1.   0.  -1.  -1.  -1.  -1.  -1.  -1.  -1.   0.  -1.]\n",
      " [ -1.  -1.   0.  -1.  -1.   0.  -1.  -1.  -1.  -1.  -1.]\n",
      " [ -1.   0.  -1.  -1.   0.  -1.  -1.  -1.  -1.  -1.  -1.]\n",
      " [  0.  -1.  -1.  -1.  -1.  -1.  -1.   0.  -1.  -1.  -1.]\n",
      " [ -1.   0.  -1.  -1.  -1.  -1.   0.  -1.   0.  -1.  -1.]\n",
      " [ -1.  -1.  -1.  -1.  -1.  -1.  -1.   0.  -1.   0.  -1.]\n",
      " [ -1.  -1.  -1.   0.  -1.  -1.  -1.  -1.   0.  -1. 100.]\n",
      " [ -1.  -1.  -1.  -1.  -1.  -1.  -1.  -1. 100.   0. 100.]]\n"
     ]
    }
   ],
   "source": [
    "R[goal,goal] = 100\n",
    "print(R)"
   ]
  },
  {
   "cell_type": "markdown",
   "id": "3155da91",
   "metadata": {},
   "source": [
    "DECLARATION OF Q MATRIX "
   ]
  },
  {
   "cell_type": "code",
   "execution_count": 31,
   "id": "6c1ab45c",
   "metadata": {},
   "outputs": [],
   "source": [
    "Q = np.matrix(np.zeros([Matrix_size,Matrix_size]))"
   ]
  },
  {
   "cell_type": "code",
   "execution_count": 32,
   "id": "1cbcab1d",
   "metadata": {},
   "outputs": [
    {
     "data": {
      "text/plain": [
       "matrix([[0., 0., 0., 0., 0., 0., 0., 0., 0., 0., 0.],\n",
       "        [0., 0., 0., 0., 0., 0., 0., 0., 0., 0., 0.],\n",
       "        [0., 0., 0., 0., 0., 0., 0., 0., 0., 0., 0.],\n",
       "        [0., 0., 0., 0., 0., 0., 0., 0., 0., 0., 0.],\n",
       "        [0., 0., 0., 0., 0., 0., 0., 0., 0., 0., 0.],\n",
       "        [0., 0., 0., 0., 0., 0., 0., 0., 0., 0., 0.],\n",
       "        [0., 0., 0., 0., 0., 0., 0., 0., 0., 0., 0.],\n",
       "        [0., 0., 0., 0., 0., 0., 0., 0., 0., 0., 0.],\n",
       "        [0., 0., 0., 0., 0., 0., 0., 0., 0., 0., 0.],\n",
       "        [0., 0., 0., 0., 0., 0., 0., 0., 0., 0., 0.],\n",
       "        [0., 0., 0., 0., 0., 0., 0., 0., 0., 0., 0.]])"
      ]
     },
     "execution_count": 32,
     "metadata": {},
     "output_type": "execute_result"
    }
   ],
   "source": [
    "Q"
   ]
  },
  {
   "cell_type": "markdown",
   "id": "e00b5bab",
   "metadata": {},
   "source": [
    "CURRENT STATE"
   ]
  },
  {
   "cell_type": "code",
   "execution_count": 33,
   "id": "dea58fa1",
   "metadata": {},
   "outputs": [],
   "source": [
    "initialize_state = 1"
   ]
  },
  {
   "cell_type": "code",
   "execution_count": 34,
   "id": "c5b3bc0b",
   "metadata": {},
   "outputs": [],
   "source": [
    "def available_actions(state):\n",
    "    current_state_row = R[state]\n",
    "    available_states = np.where(current_state_row >- 1)[1]\n",
    "    return available_states"
   ]
  },
  {
   "cell_type": "code",
   "execution_count": 35,
   "id": "684138fc",
   "metadata": {},
   "outputs": [],
   "source": [
    "def next_state(available_actions):\n",
    "    next_action = np.random.choice(available_actions,1)\n",
    "    return next_action\n",
    "    "
   ]
  },
  {
   "cell_type": "code",
   "execution_count": 36,
   "id": "9c4e4084",
   "metadata": {},
   "outputs": [],
   "source": [
    "def Q_update(current_state, next_state, gaama):\n",
    "    max_index = np.where(Q[next_state,] == np.max(Q[next_state , ]))[1]\n",
    "    if(max_index.shape[0] > 1):\n",
    "        max_index = int(np.random.choice(max_index,1))\n",
    "    else:\n",
    "        max_index = int(max_index)\n",
    "    max_value = Q[next_state, max_index]\n",
    "    Q[current_state, next_state] = R[current_state, next_state] + gaama * max_value\n",
    "    if(np.max(Q) > 0):\n",
    "        return(np.sum(Q/np.max(Q)*100))\n",
    "    else:\n",
    "        return(0)"
   ]
  },
  {
   "cell_type": "code",
   "execution_count": 38,
   "id": "089b93be",
   "metadata": {},
   "outputs": [
    {
     "name": "stderr",
     "output_type": "stream",
     "text": [
      "C:\\Users\\prash\\AppData\\Local\\Temp\\ipykernel_10260\\2298931323.py:4: DeprecationWarning: Conversion of an array with ndim > 0 to a scalar is deprecated, and will error in future. Ensure you extract a single element from your array before performing this operation. (Deprecated NumPy 1.25.)\n",
      "  max_index = int(np.random.choice(max_index,1))\n",
      "C:\\Users\\prash\\AppData\\Local\\Temp\\ipykernel_10260\\2298931323.py:6: DeprecationWarning: Conversion of an array with ndim > 0 to a scalar is deprecated, and will error in future. Ensure you extract a single element from your array before performing this operation. (Deprecated NumPy 1.25.)\n",
      "  max_index = int(max_index)\n"
     ]
    }
   ],
   "source": [
    "Q_score = []\n",
    "for i in range(1000):\n",
    "    current_state = np.random.randint(0, int(Q.shape[0]))\n",
    "    available = available_actions(current_state)\n",
    "    action = next_state(available)\n",
    "    score = Q_update(current_state, action, gaama=0.75)\n",
    "    Q_score.append(score)"
   ]
  },
  {
   "cell_type": "code",
   "execution_count": 39,
   "id": "0623b2c3",
   "metadata": {},
   "outputs": [
    {
     "data": {
      "text/plain": [
       "[<matplotlib.lines.Line2D at 0x1fc7a7d0bb0>]"
      ]
     },
     "execution_count": 39,
     "metadata": {},
     "output_type": "execute_result"
    },
    {
     "data": {
      "image/png": "[encoded data removed]",
      "text/plain": [
       "<Figure size 640x480 with 1 Axes>"
      ]
     },
     "metadata": {},
     "output_type": "display_data"
    }
   ],
   "source": [
    "pl.plot(Q_score)"
   ]
  },
  {
   "cell_type": "code",
   "execution_count": 42,
   "id": "06065018",
   "metadata": {},
   "outputs": [
    {
     "name": "stdout",
     "output_type": "stream",
     "text": [
      "[2, 1, 3, 9, 10]\n"
     ]
    },
    {
     "name": "stderr",
     "output_type": "stream",
     "text": [
      "C:\\Users\\prash\\AppData\\Local\\Temp\\ipykernel_10260\\1186161055.py:8: DeprecationWarning: Conversion of an array with ndim > 0 to a scalar is deprecated, and will error in future. Ensure you extract a single element from your array before performing this operation. (Deprecated NumPy 1.25.)\n",
      "  max_index = int(max_index)\n"
     ]
    }
   ],
   "source": [
    "current_state = 2\n",
    "steps=[current_state]\n",
    "while current_state!=goal:\n",
    "    max_index = np.where(Q[current_state,] == np.max(Q[current_state , ]))[1]\n",
    "    if(max_index.shape[0] > 1):\n",
    "        max_index = int(np.random.choice(max_index,1))\n",
    "    else:\n",
    "        max_index = int(max_index)\n",
    "    steps.append(max_index)\n",
    "    current_state = max_index\n",
    "\n",
    "print(steps)"
   ]
  },
  {
   "cell_type": "code",
   "execution_count": null,
   "id": "2f3152a3",
   "metadata": {},
   "outputs": [],
   "source": []
  }
 ],
 "metadata": {
  "kernelspec": {
   "display_name": "tf_env",
   "language": "python",
   "name": "python3"
  },
  "language_info": {
   "codemirror_mode": {
    "name": "ipython",
    "version": 3
   },
   "file_extension": ".py",
   "mimetype": "text/x-python",
   "name": "python",
   "nbconvert_exporter": "python",
   "pygments_lexer": "ipython3",
   "version": "3.10.13"
  }
 },
 "nbformat": 4,
 "nbformat_minor": 5
}
