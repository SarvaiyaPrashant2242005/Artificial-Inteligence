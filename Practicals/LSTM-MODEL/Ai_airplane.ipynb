{
  "cells": [
    {
      "cell_type": "code",
      "execution_count": 4,
      "metadata": {
        "id": "hMhmBH4aBRXI"
      },
      "outputs": [],
      "source": [
        "import numpy as np\n",
        "import pandas as pd\n",
        "import matplotlib.pyplot as plt\n",
        "import tensorflow as tf\n",
        "from tensorflow.keras.models import Sequential\n",
        "from tensorflow.keras.layers import LSTM,Dense,Dropout\n",
        "from sklearn.preprocessing import MinMaxScaler"
      ]
    },
    {
      "cell_type": "code",
      "execution_count": null,
      "metadata": {
        "id": "mFCkiBgBBUTZ"
      },
      "outputs": [],
      "source": [
        "df=pd.read_csv(\"./  .csv\")"
      ]
    },
    {
      "cell_type": "code",
      "execution_count": 6,
      "metadata": {
        "colab": {
          "base_uri": "https://localhost:8080/",
          "height": 423
        },
        "id": "V8qOlctJBeiF",
        "outputId": "acf34ccb-c0fc-4209-f6ab-aa6f4703cb6a"
      },
      "outputs": [
        {
          "data": {
            "text/html": [
              "<div>\n",
              "<style scoped>\n",
              "    .dataframe tbody tr th:only-of-type {\n",
              "        vertical-align: middle;\n",
              "    }\n",
              "\n",
              "    .dataframe tbody tr th {\n",
              "        vertical-align: top;\n",
              "    }\n",
              "\n",
              "    .dataframe thead th {\n",
              "        text-align: right;\n",
              "    }\n",
              "</style>\n",
              "<table border=\"1\" class=\"dataframe\">\n",
              "  <thead>\n",
              "    <tr style=\"text-align: right;\">\n",
              "      <th></th>\n",
              "      <th>Month</th>\n",
              "      <th>Passengers</th>\n",
              "    </tr>\n",
              "  </thead>\n",
              "  <tbody>\n",
              "    <tr>\n",
              "      <th>0</th>\n",
              "      <td>1949-01</td>\n",
              "      <td>112</td>\n",
              "    </tr>\n",
              "    <tr>\n",
              "      <th>1</th>\n",
              "      <td>1949-02</td>\n",
              "      <td>118</td>\n",
              "    </tr>\n",
              "    <tr>\n",
              "      <th>2</th>\n",
              "      <td>1949-03</td>\n",
              "      <td>132</td>\n",
              "    </tr>\n",
              "    <tr>\n",
              "      <th>3</th>\n",
              "      <td>1949-04</td>\n",
              "      <td>129</td>\n",
              "    </tr>\n",
              "    <tr>\n",
              "      <th>4</th>\n",
              "      <td>1949-05</td>\n",
              "      <td>121</td>\n",
              "    </tr>\n",
              "    <tr>\n",
              "      <th>...</th>\n",
              "      <td>...</td>\n",
              "      <td>...</td>\n",
              "    </tr>\n",
              "    <tr>\n",
              "      <th>139</th>\n",
              "      <td>1960-08</td>\n",
              "      <td>606</td>\n",
              "    </tr>\n",
              "    <tr>\n",
              "      <th>140</th>\n",
              "      <td>1960-09</td>\n",
              "      <td>508</td>\n",
              "    </tr>\n",
              "    <tr>\n",
              "      <th>141</th>\n",
              "      <td>1960-10</td>\n",
              "      <td>461</td>\n",
              "    </tr>\n",
              "    <tr>\n",
              "      <th>142</th>\n",
              "      <td>1960-11</td>\n",
              "      <td>390</td>\n",
              "    </tr>\n",
              "    <tr>\n",
              "      <th>143</th>\n",
              "      <td>1960-12</td>\n",
              "      <td>432</td>\n",
              "    </tr>\n",
              "  </tbody>\n",
              "</table>\n",
              "<p>144 rows × 2 columns</p>\n",
              "</div>"
            ],
            "text/plain": [
              "       Month  Passengers\n",
              "0    1949-01         112\n",
              "1    1949-02         118\n",
              "2    1949-03         132\n",
              "3    1949-04         129\n",
              "4    1949-05         121\n",
              "..       ...         ...\n",
              "139  1960-08         606\n",
              "140  1960-09         508\n",
              "141  1960-10         461\n",
              "142  1960-11         390\n",
              "143  1960-12         432\n",
              "\n",
              "[144 rows x 2 columns]"
            ]
          },
          "execution_count": 6,
          "metadata": {},
          "output_type": "execute_result"
        }
      ],
      "source": [
        "df"
      ]
    },
    {
      "cell_type": "code",
      "execution_count": 7,
      "metadata": {
        "colab": {
          "base_uri": "https://localhost:8080/",
          "height": 455
        },
        "id": "Ow-IUwmCBlHG",
        "outputId": "e37a383a-3566-4040-a9c1-fed1f16a6ba2"
      },
      "outputs": [
        {
          "data": {
            "text/html": [
              "<div>\n",
              "<style scoped>\n",
              "    .dataframe tbody tr th:only-of-type {\n",
              "        vertical-align: middle;\n",
              "    }\n",
              "\n",
              "    .dataframe tbody tr th {\n",
              "        vertical-align: top;\n",
              "    }\n",
              "\n",
              "    .dataframe thead th {\n",
              "        text-align: right;\n",
              "    }\n",
              "</style>\n",
              "<table border=\"1\" class=\"dataframe\">\n",
              "  <thead>\n",
              "    <tr style=\"text-align: right;\">\n",
              "      <th></th>\n",
              "      <th>Passengers</th>\n",
              "    </tr>\n",
              "    <tr>\n",
              "      <th>Month</th>\n",
              "      <th></th>\n",
              "    </tr>\n",
              "  </thead>\n",
              "  <tbody>\n",
              "    <tr>\n",
              "      <th>1949-01-01</th>\n",
              "      <td>112</td>\n",
              "    </tr>\n",
              "    <tr>\n",
              "      <th>1949-02-01</th>\n",
              "      <td>118</td>\n",
              "    </tr>\n",
              "    <tr>\n",
              "      <th>1949-03-01</th>\n",
              "      <td>132</td>\n",
              "    </tr>\n",
              "    <tr>\n",
              "      <th>1949-04-01</th>\n",
              "      <td>129</td>\n",
              "    </tr>\n",
              "    <tr>\n",
              "      <th>1949-05-01</th>\n",
              "      <td>121</td>\n",
              "    </tr>\n",
              "    <tr>\n",
              "      <th>...</th>\n",
              "      <td>...</td>\n",
              "    </tr>\n",
              "    <tr>\n",
              "      <th>1960-08-01</th>\n",
              "      <td>606</td>\n",
              "    </tr>\n",
              "    <tr>\n",
              "      <th>1960-09-01</th>\n",
              "      <td>508</td>\n",
              "    </tr>\n",
              "    <tr>\n",
              "      <th>1960-10-01</th>\n",
              "      <td>461</td>\n",
              "    </tr>\n",
              "    <tr>\n",
              "      <th>1960-11-01</th>\n",
              "      <td>390</td>\n",
              "    </tr>\n",
              "    <tr>\n",
              "      <th>1960-12-01</th>\n",
              "      <td>432</td>\n",
              "    </tr>\n",
              "  </tbody>\n",
              "</table>\n",
              "<p>144 rows × 1 columns</p>\n",
              "</div>"
            ],
            "text/plain": [
              "            Passengers\n",
              "Month                 \n",
              "1949-01-01         112\n",
              "1949-02-01         118\n",
              "1949-03-01         132\n",
              "1949-04-01         129\n",
              "1949-05-01         121\n",
              "...                ...\n",
              "1960-08-01         606\n",
              "1960-09-01         508\n",
              "1960-10-01         461\n",
              "1960-11-01         390\n",
              "1960-12-01         432\n",
              "\n",
              "[144 rows x 1 columns]"
            ]
          },
          "execution_count": 7,
          "metadata": {},
          "output_type": "execute_result"
        }
      ],
      "source": [
        "df[\"Month\"]=pd.to_datetime(df[\"Month\"])\n",
        "df.set_index(\"Month\",inplace=True)\n",
        "df"
      ]
    },
    {
      "cell_type": "code",
      "execution_count": 8,
      "metadata": {
        "id": "7XUykJSRCWYD"
      },
      "outputs": [],
      "source": [
        "scaler=MinMaxScaler(feature_range=(0,1))"
      ]
    },
    {
      "cell_type": "code",
      "execution_count": 9,
      "metadata": {
        "id": "ipDLmWP2Cgsn"
      },
      "outputs": [],
      "source": [
        "data_scaled=scaler.fit_transform(df)"
      ]
    },
    {
      "cell_type": "code",
      "execution_count": 10,
      "metadata": {
        "id": "xG6BnTP7C5wr"
      },
      "outputs": [],
      "source": [
        "def create_sequence(data,seq_length):\n",
        "  x,y=[],[]\n",
        "  for i in range(len(data)-seq_length):\n",
        "    x.append(data[i:(i+seq_length)])\n",
        "    y.append(data[i+seq_length])\n",
        "  return np.array(x),np.array(y)"
      ]
    },
    {
      "cell_type": "code",
      "execution_count": 11,
      "metadata": {
        "id": "5SWvYGVHExsy"
      },
      "outputs": [],
      "source": [
        "seq_length=5\n",
        "X,y=create_sequence(data_scaled,seq_length)"
      ]
    },
    {
      "cell_type": "code",
      "execution_count": 12,
      "metadata": {
        "id": "iG4L9bAbE5Zp"
      },
      "outputs": [],
      "source": [
        "#split data into train-test split\n",
        "size=int(0.8*len(X))\n",
        "X_train,X_test=X[:size],X[size:]\n",
        "y_train,y_test=y[:size],y[size:]"
      ]
    },
    {
      "cell_type": "code",
      "execution_count": 13,
      "metadata": {
        "colab": {
          "base_uri": "https://localhost:8080/"
        },
        "id": "gxBotFDxFEDl",
        "outputId": "998101ed-19f0-4133-f28c-16c4d47900b7"
      },
      "outputs": [],
      "source": [
        "#Define the LSTM model\n",
        "model=Sequential([LSTM(50,return_sequences=True,input_shape=(seq_length,1)),LSTM(50),Dense(1)])"
      ]
    },
    {
      "cell_type": "code",
      "execution_count": 14,
      "metadata": {
        "id": "i4nI0H92GlPS"
      },
      "outputs": [
        {
          "name": "stdout",
          "output_type": "stream",
          "text": [
            "Epoch 1/50\n",
            "7/7 [==============================] - 16s 12ms/step - loss: 0.0717\n",
            "Epoch 2/50\n",
            "7/7 [==============================] - 0s 16ms/step - loss: 0.0240\n",
            "Epoch 3/50\n",
            "7/7 [==============================] - 0s 19ms/step - loss: 0.0179\n",
            "Epoch 4/50\n",
            "7/7 [==============================] - 0s 11ms/step - loss: 0.0144\n",
            "Epoch 5/50\n",
            "7/7 [==============================] - 0s 15ms/step - loss: 0.0118\n",
            "Epoch 6/50\n",
            "7/7 [==============================] - 0s 12ms/step - loss: 0.0114\n",
            "Epoch 7/50\n",
            "7/7 [==============================] - 0s 13ms/step - loss: 0.0100\n",
            "Epoch 8/50\n",
            "7/7 [==============================] - 0s 18ms/step - loss: 0.0092\n",
            "Epoch 9/50\n",
            "7/7 [==============================] - 0s 11ms/step - loss: 0.0089\n",
            "Epoch 10/50\n",
            "7/7 [==============================] - 0s 11ms/step - loss: 0.0087\n",
            "Epoch 11/50\n",
            "7/7 [==============================] - 0s 12ms/step - loss: 0.0087\n",
            "Epoch 12/50\n",
            "7/7 [==============================] - 0s 14ms/step - loss: 0.0087\n",
            "Epoch 13/50\n",
            "7/7 [==============================] - 0s 12ms/step - loss: 0.0086\n",
            "Epoch 14/50\n",
            "7/7 [==============================] - 0s 12ms/step - loss: 0.0086\n",
            "Epoch 15/50\n",
            "7/7 [==============================] - 0s 12ms/step - loss: 0.0085\n",
            "Epoch 16/50\n",
            "7/7 [==============================] - 0s 12ms/step - loss: 0.0084\n",
            "Epoch 17/50\n",
            "7/7 [==============================] - 0s 11ms/step - loss: 0.0084\n",
            "Epoch 18/50\n",
            "7/7 [==============================] - 0s 11ms/step - loss: 0.0083\n",
            "Epoch 19/50\n",
            "7/7 [==============================] - 0s 12ms/step - loss: 0.0083\n",
            "Epoch 20/50\n",
            "7/7 [==============================] - 0s 11ms/step - loss: 0.0083\n",
            "Epoch 21/50\n",
            "7/7 [==============================] - 0s 23ms/step - loss: 0.0084\n",
            "Epoch 22/50\n",
            "7/7 [==============================] - 0s 26ms/step - loss: 0.0084\n",
            "Epoch 23/50\n",
            "7/7 [==============================] - 0s 13ms/step - loss: 0.0081\n",
            "Epoch 24/50\n",
            "7/7 [==============================] - 0s 10ms/step - loss: 0.0086\n",
            "Epoch 25/50\n",
            "7/7 [==============================] - 0s 10ms/step - loss: 0.0082\n",
            "Epoch 26/50\n",
            "7/7 [==============================] - 0s 10ms/step - loss: 0.0081\n",
            "Epoch 27/50\n",
            "7/7 [==============================] - 0s 10ms/step - loss: 0.0080\n",
            "Epoch 28/50\n",
            "7/7 [==============================] - 0s 10ms/step - loss: 0.0079\n",
            "Epoch 29/50\n",
            "7/7 [==============================] - 0s 10ms/step - loss: 0.0082\n",
            "Epoch 30/50\n",
            "7/7 [==============================] - 1s 111ms/step - loss: 0.0076\n",
            "Epoch 31/50\n",
            "7/7 [==============================] - 0s 13ms/step - loss: 0.0077\n",
            "Epoch 32/50\n",
            "7/7 [==============================] - 0s 16ms/step - loss: 0.0076\n",
            "Epoch 33/50\n",
            "7/7 [==============================] - 0s 21ms/step - loss: 0.0075\n",
            "Epoch 34/50\n",
            "7/7 [==============================] - 0s 12ms/step - loss: 0.0076\n",
            "Epoch 35/50\n",
            "7/7 [==============================] - 0s 11ms/step - loss: 0.0076\n",
            "Epoch 36/50\n",
            "7/7 [==============================] - 0s 12ms/step - loss: 0.0073\n",
            "Epoch 37/50\n",
            "7/7 [==============================] - 0s 11ms/step - loss: 0.0077\n",
            "Epoch 38/50\n",
            "7/7 [==============================] - 0s 11ms/step - loss: 0.0080\n",
            "Epoch 39/50\n",
            "7/7 [==============================] - 0s 11ms/step - loss: 0.0074\n",
            "Epoch 40/50\n",
            "7/7 [==============================] - 0s 11ms/step - loss: 0.0072\n",
            "Epoch 41/50\n",
            "7/7 [==============================] - 0s 11ms/step - loss: 0.0070\n",
            "Epoch 42/50\n",
            "7/7 [==============================] - 0s 12ms/step - loss: 0.0077\n",
            "Epoch 43/50\n",
            "7/7 [==============================] - 0s 14ms/step - loss: 0.0069\n",
            "Epoch 44/50\n",
            "7/7 [==============================] - 0s 12ms/step - loss: 0.0070\n",
            "Epoch 45/50\n",
            "7/7 [==============================] - 0s 11ms/step - loss: 0.0067\n",
            "Epoch 46/50\n",
            "7/7 [==============================] - 0s 11ms/step - loss: 0.0067\n",
            "Epoch 47/50\n",
            "7/7 [==============================] - 0s 11ms/step - loss: 0.0066\n",
            "Epoch 48/50\n",
            "7/7 [==============================] - 0s 12ms/step - loss: 0.0064\n",
            "Epoch 49/50\n",
            "7/7 [==============================] - 0s 11ms/step - loss: 0.0065\n",
            "Epoch 50/50\n",
            "7/7 [==============================] - 0s 11ms/step - loss: 0.0063\n"
          ]
        },
        {
          "data": {
            "text/plain": [
              "<keras.callbacks.History at 0x26de47674c0>"
            ]
          },
          "execution_count": 14,
          "metadata": {},
          "output_type": "execute_result"
        }
      ],
      "source": [
        "model.compile(optimizer=\"adam\",loss=\"mse\")\n",
        "model.fit(X_train,y_train,epochs=50,batch_size=16,verbose=1)"
      ]
    },
    {
      "cell_type": "code",
      "execution_count": 15,
      "metadata": {
        "colab": {
          "base_uri": "https://localhost:8080/"
        },
        "id": "iQ1MFnPWHTKS",
        "outputId": "4b838653-5a51-49db-be3d-8f3f183144b8"
      },
      "outputs": [
        {
          "name": "stdout",
          "output_type": "stream",
          "text": [
            "1/1 [==============================] - 3s 3s/step\n"
          ]
        }
      ],
      "source": [
        "predictions=model.predict(X_test)"
      ]
    },
    {
      "cell_type": "code",
      "execution_count": 16,
      "metadata": {
        "id": "ilHGCTi9HkTf"
      },
      "outputs": [],
      "source": [
        "predictions=scaler.inverse_transform(predictions)"
      ]
    },
    {
      "cell_type": "code",
      "execution_count": 17,
      "metadata": {
        "id": "y2fb_g5rHxan"
      },
      "outputs": [
        {
          "data": {
            "text/plain": [
              "array([[434.537  ],\n",
              "       [432.76926],\n",
              "       [412.17795],\n",
              "       [378.1969 ],\n",
              "       [354.6024 ],\n",
              "       [343.441  ],\n",
              "       [339.3838 ],\n",
              "       [353.66962],\n",
              "       [368.94315],\n",
              "       [384.16858],\n",
              "       [407.48694],\n",
              "       [446.86337],\n",
              "       [478.76862],\n",
              "       [476.536  ],\n",
              "       [453.2577 ],\n",
              "       [419.64987],\n",
              "       [401.6198 ],\n",
              "       [393.82507],\n",
              "       [388.5291 ],\n",
              "       [393.27304],\n",
              "       [410.07288],\n",
              "       [425.4471 ],\n",
              "       [452.74762],\n",
              "       [498.32596],\n",
              "       [527.7141 ],\n",
              "       [517.89636],\n",
              "       [492.57117],\n",
              "       [452.51154]], dtype=float32)"
            ]
          },
          "execution_count": 17,
          "metadata": {},
          "output_type": "execute_result"
        }
      ],
      "source": [
        "predictions"
      ]
    },
    {
      "cell_type": "code",
      "execution_count": 18,
      "metadata": {
        "id": "kHgwS5IfH0Aw"
      },
      "outputs": [],
      "source": [
        "y_test=scaler.inverse_transform(y_test)"
      ]
    },
    {
      "cell_type": "code",
      "execution_count": 20,
      "metadata": {
        "colab": {
          "base_uri": "https://localhost:8080/",
          "height": 445
        },
        "id": "hQhaeg2HIADd",
        "outputId": "7c0357a7-7fec-4b9a-d130-ade9dc54633a"
      },
      "outputs": [
        {
          "data": {
            "image/png": "[encoded data removed]",
            "text/plain": [
              "<Figure size 1000x500 with 1 Axes>"
            ]
          },
          "metadata": {},
          "output_type": "display_data"
        }
      ],
      "source": [
        "plt.figure(figsize=(10,5))\n",
        "plt.plot(df.index[-len(y_test):],y_test,label=\"Actual data\")\n",
        "plt.plot(df.index[-len(y_test):],predictions,label=\"predicted data\")\n",
        "plt.legend()\n",
        "plt.show()"
      ]
    },
    {
      "cell_type": "code",
      "execution_count": null,
      "metadata": {
        "id": "3hEPQ0O8In_W"
      },
      "outputs": [],
      "source": []
    }
  ],
  "metadata": {
    "colab": {
      "provenance": []
    },
    "kernelspec": {
      "display_name": "tf_env",
      "language": "python",
      "name": "python3"
    },
    "language_info": {
      "codemirror_mode": {
        "name": "ipython",
        "version": 3
      },
      "file_extension": ".py",
      "mimetype": "text/x-python",
      "name": "python",
      "nbconvert_exporter": "python",
      "pygments_lexer": "ipython3",
      "version": "3.10.13"
    }
  },
  "nbformat": 4,
  "nbformat_minor": 0
}
