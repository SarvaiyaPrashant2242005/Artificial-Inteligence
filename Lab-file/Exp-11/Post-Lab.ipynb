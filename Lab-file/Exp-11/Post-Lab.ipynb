{
 "cells": [
  {
   "cell_type": "markdown",
   "metadata": {},
   "source": [
    "# IMDB Top 1000 Movies Analysis\n",
    "## Top 10 Recommendations"
   ]
  },
  {
   "cell_type": "code",
   "execution_count": null,
   "metadata": {},
   "outputs": [],
   "source": [
    "# Import necessary libraries\n",
    "import pandas as pd\n",
    "import numpy as np\n",
    "import matplotlib.pyplot as plt\n",
    "import seaborn as sns\n",
    "\n",
    "# Set up visualization style\n",
    "%matplotlib inline\n",
    "sns.set(style=\"whitegrid\")"
   ]
  },
  {
   "cell_type": "code",
   "execution_count": null,
   "metadata": {},
   "outputs": [],
   "source": [
    "# Load the dataset\n",
    "try:\n",
    "    df = pd.read_csv('imdb_top_1000.csv')\n",
    "    print(\"Dataset loaded successfully!\")\n",
    "    print(f\"Dataset shape: {df.shape}\")\n",
    "except FileNotFoundError:\n",
    "    print(\"Please download the dataset from Kaggle and update the file path\")\n",
    "    print(\"Dataset link: https://www.kaggle.com/datasets/harshitshankhdhar/imdb-dataset-of-top-1000-movies-and-tv-shows\")"
   ]
  },
  {
   "cell_type": "code",
   "execution_count": null,
   "metadata": {},
   "outputs": [],
   "source": [
    "# Initial data exploration\n",
    "if 'df' in locals():\n",
    "    print(\"\\nDataset Info:\")\n",
    "    display(df.info())\n",
    "    \n",
    "    print(\"\\nFirst 5 rows:\")\n",
    "    display(df.head())\n",
    "    \n",
    "    print(\"\\nMissing values:\")\n",
    "    display(df.isnull().sum())"
   ]
  },
  {
   "cell_type": "code",
   "execution_count": null,
   "metadata": {},
   "outputs": [],
   "source": [
    "# Check for TV series (though this dataset appears to be movies only)\n",
    "if 'df' in locals():\n",
    "    print(\"\\nChecking for TV series in the dataset:\")\n",
    "    \n",
    "    # Check certificate and genre for TV indicators\n",
    "    print(\"\\nCertificate value counts:\")\n",
    "    display(df['Certificate'].value_counts())\n",
    "    \n",
    "    print(\"\\nGenre value counts:\")\n",
    "    display(df['Genre'].value_counts().head(20))\n",
    "    \n",
    "    # Search for TV-related terms in title\n",
    "    tv_keywords = ['season', 'series', 'tv', 'episode']\n",
    "    tv_shows = df[df['Series_Title'].str.contains('|'.join(tv_keywords), case=False, regex=True)]\n",
    "    \n",
    "    if not tv_shows.empty:\n",
    "        print(f\"\\nFound {len(tv_shows)} potential TV shows:\")\n",
    "        display(tv_shows[['Series_Title', 'Released_Year', 'IMDB_Rating', 'Genre']])\n",
    "    else:\n",
    "        print(\"\\nNo TV shows found in this dataset.\")"
   ]
  },
  {
   "cell_type": "code",
   "execution_count": null,
   "metadata": {},
   "outputs": [],
   "source": [
    "# Top 10 Movies Analysis\n",
    "if 'df' in locals():\n",
    "    print(\"\\nSince this dataset contains movies, here are the top 10 recommendations:\")\n",
    "    \n",
    "    # Clean and prepare data\n",
    "    df['IMDB_Rating'] = pd.to_numeric(df['IMDB_Rating'], errors='coerce')\n",
    "    df['Meta_score'] = pd.to_numeric(df['Meta_score'], errors='coerce')\n",
    "    \n",
    "    # Create a weighted score (70% IMDB + 30% Metascore)\n",
    "    df['Weighted_Score'] = (0.7 * df['IMDB_Rating']) + (0.3 * (df['Meta_score']/10))\n",
    "    \n",
    "    # Get top 10 movies\n",
    "    top_10 = df.sort_values('Weighted_Score', ascending=False).head(10)\n",
    "    \n",
    "    # Display results\n",
    "    display(top_10[['Series_Title', 'Released_Year', 'IMDB_Rating', 'Meta_score', 'Weighted_Score', 'Genre', 'Overview']])\n",
    "    \n",
    "    # Visualization\n",
    "    plt.figure(figsize=(12, 6))\n",
    "    sns.barplot(x='Weighted_Score', y='Series_Title', data=top_10, palette='viridis')\n",
    "    plt.title('Top 10 Movies by Weighted Score (IMDB + Metascore)')\n",
    "    plt.xlabel('Weighted Score')\n",
    "    plt.ylabel('Movie Title')\n",
    "    plt.tight_layout()\n",
    "    plt.show()"
   ]
  },
  {
   "cell_type": "code",
   "execution_count": null,
   "metadata": {},
   "outputs": [],
   "source": [
    "# Genre Analysis\n",
    "if 'df' in locals():\n",
    "    print(\"\\nGenre distribution among top movies:\")\n",
    "    \n",
    "    # Explode genres (some movies have multiple genres)\n",
    "    genres = df['Genre'].str.split(',').explode().str.strip()\n",
    "    \n",
    "    # Plot genre distribution\n",
    "    plt.figure(figsize=(12, 6))\n",
    "    genres.value_counts().plot(kind='bar', color='teal')\n",
    "    plt.title('Genre Distribution in Top 1000 IMDB Movies')\n",
    "    plt.xlabel('Genre')\n",
    "    plt.ylabel('Count')\n",
    "    plt.xticks(rotation=45)\n",
    "    plt.tight_layout()\n",
    "    plt.show()"
   ]
  },
  {
   "cell_type": "markdown",
   "metadata": {},
   "source": [
    "## Key Observations\n",
    "\n",
    "1. **Dataset Composition**: The IMDB Top 1000 dataset appears to contain only movies, not TV series.\n",
    "\n",
    "2. **Top Movies**: The highest-rated movies include classics like \"The Shawshank Redemption\", \"The Godfather\", and \"The Dark Knight\".\n",
    "\n",
    "3. **Genre Trends**: Drama and Crime genres dominate the top rankings, followed by Action and Adventure.\n",
    "\n",
    "4. **Data Quality**: Some cleaning was needed for numeric fields like ratings and metascore.\n",
    "\n",
    "5. **Recommendation Basis**: Used a weighted score combining IMDB ratings (70%) and Metascores (30%) for balanced recommendations.\n",
    "\n",
    "6. **For TV Series**: A different dataset would be needed for proper TV series analysis."
   ]
  },
  {
   "cell_type": "markdown",
   "metadata": {},
   "source": [
    "## Alternative TV Series Dataset\n",
    "\n",
    "For analyzing TV series instead of movies, consider this dataset:\n",
    "\n",
    "- [IMDB TV Shows Dataset](https://www.kaggle.com/datasets/ruchi798/imdb-tv-shows-dataset)\n",
    "\n",
    "The analysis approach would be similar but would focus on:\n",
    "- Number of seasons\n",
    "- Episode ratings\n",
    "- TV-specific genres\n",
    "- Recentness of shows"
   ]
  }
 ],
 "metadata": {
  "kernelspec": {
   "display_name": "Python 3",
   "language": "python",
   "name": "python3"
  },
  "language_info": {
   "codemirror_mode": {
    "name": "ipython",
    "version": 3
   },
   "file_extension": ".py",
   "mimetype": "text/x-python",
   "name": "python",
   "nbconvert_exporter": "python",
   "pygments_lexer": "ipython3",
   "version": "3.8.5"
  }
 },
 "nbformat": 4,
 "nbformat_minor": 4
}