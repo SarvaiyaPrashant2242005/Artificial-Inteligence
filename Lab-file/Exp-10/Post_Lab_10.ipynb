{
  "cells": [
    {
      "cell_type": "markdown",
      "metadata": {
        "id": "ob4Hwgp0DjBD"
      },
      "source": [
        "### Portfolio Summarization using TextRank\n",
        "\n",
        "#### 1. Write about “your ownself” (in not more than 500 words)"
      ],
      "id": "ob4Hwgp0DjBD"
    },
    {
      "cell_type": "code",
      "execution_count": 1,
      "metadata": {
        "id": "2tcyhjs-DjBJ"
      },
      "outputs": [],
      "source": [
        "# Replace this with your actual portfolio content (maximum 500 words)\n",
        "text = \"\"\"\n",
        "I am Prashant Sarvaiya, an enthusiastic developer passionate about technology, especially in the fields of IoT, AI, and mobile app development. I am currently pursuing my Bachelor's degree in Computer Engineering at Marwadi University. Over the years, I've worked on a variety of projects such as a barber appointment booking app, a Dharamshala management system, and an automatic pill dispenser during my internship.\n",
        "\n",
        "My passion for real-world problem solving has led me to integrate hardware and software in my solutions. I am comfortable using Flutter for frontend and Firebase or Supabase for backend development. I have also worked with React and Spring Boot in my academic projects.\n",
        "\n",
        "I’ve participated in hackathons like Flipkart Grid and continuously seek to improve my skills in cloud technologies and machine learning. I love creating applications that improve people’s lives and help automate daily tasks. On weekends, I usually focus on side projects and research.\n",
        "\n",
        "Apart from coding, I enjoy helping others, creating educational YouTube videos, and exploring new tools. My goals include contributing to open-source projects and building products that can have a social impact.\n",
        "\"\"\""
      ],
      "id": "2tcyhjs-DjBJ"
    },
    {
      "cell_type": "markdown",
      "metadata": {
        "id": "vEmtPalADjBN"
      },
      "source": [
        "#### 2. Generate summaries using TextRank"
      ],
      "id": "vEmtPalADjBN"
    },
    {
      "cell_type": "code",
      "execution_count": 7,
      "metadata": {
        "colab": {
          "base_uri": "https://localhost:8080/"
        },
        "id": "gW0kVEN9DjBO",
        "outputId": "1b58cfba-c581-4cc8-ac92-2d71e15b2872"
      },
      "outputs": [
        {
          "output_type": "stream",
          "name": "stderr",
          "text": [
            "[nltk_data] Downloading package punkt_tab to /root/nltk_data...\n",
            "[nltk_data]   Unzipping tokenizers/punkt_tab.zip.\n"
          ]
        },
        {
          "output_type": "execute_result",
          "data": {
            "text/plain": [
              "True"
            ]
          },
          "metadata": {},
          "execution_count": 7
        }
      ],
      "source": [
        "import nltk\n",
        "from sumy.parsers.plaintext import PlaintextParser\n",
        "from sumy.nlp.tokenizers import Tokenizer\n",
        "from sumy.summarizers.text_rank import TextRankSummarizer\n",
        "nltk.download('punkt_tab')\n"
      ],
      "id": "gW0kVEN9DjBO"
    },
    {
      "cell_type": "code",
      "source": [
        "# Summarization\n",
        "parser = PlaintextParser.from_string(text, Tokenizer(\"english\"))\n",
        "summarizer = TextRankSummarizer()"
      ],
      "metadata": {
        "id": "s-2rz04VD2EJ"
      },
      "id": "s-2rz04VD2EJ",
      "execution_count": 8,
      "outputs": []
    },
    {
      "cell_type": "code",
      "source": [
        "print(\"🔹 50% Summary:\")\n",
        "for sentence in summarizer(parser.document, 2):  # 50% summary (approx 2 sentences)\n",
        "    print(sentence)\n",
        "\n",
        "print(\"\\n🔹 25% Summary:\")\n",
        "for sentence in summarizer(parser.document, 1):  # 25% summary (approx 1 sentence)\n",
        "    print(sentence)"
      ],
      "metadata": {
        "colab": {
          "base_uri": "https://localhost:8080/"
        },
        "id": "U9BU-FuAD4D0",
        "outputId": "7aa213da-6dce-4172-d76b-91e9911f4a26"
      },
      "id": "U9BU-FuAD4D0",
      "execution_count": 9,
      "outputs": [
        {
          "output_type": "stream",
          "name": "stdout",
          "text": [
            "🔹 50% Summary:\n",
            "Over the years, I've worked on a variety of projects such as a barber appointment booking app, a Dharamshala management system, and an automatic pill dispenser during my internship.\n",
            "I’ve participated in hackathons like Flipkart Grid and continuously seek to improve my skills in cloud technologies and machine learning.\n",
            "\n",
            "🔹 25% Summary:\n",
            "I’ve participated in hackathons like Flipkart Grid and continuously seek to improve my skills in cloud technologies and machine learning.\n"
          ]
        }
      ]
    },
    {
      "cell_type": "code",
      "source": [],
      "metadata": {
        "id": "Mluwhal6EURR"
      },
      "id": "Mluwhal6EURR",
      "execution_count": null,
      "outputs": []
    }
  ],
  "metadata": {
    "kernelspec": {
      "display_name": "Python 3",
      "language": "python",
      "name": "python3"
    },
    "language_info": {
      "name": "python",
      "version": "3.8"
    },
    "colab": {
      "provenance": []
    }
  },
  "nbformat": 4,
  "nbformat_minor": 5
}