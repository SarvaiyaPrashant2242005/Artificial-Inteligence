{
  "nbformat": 4,
  "nbformat_minor": 0,
  "metadata": {
    "colab": {
      "provenance": []
    },
    "kernelspec": {
      "name": "python3",
      "display_name": "Python 3"
    },
    "language_info": {
      "name": "python"
    }
  },
  "cells": [
    {
      "cell_type": "code",
      "execution_count": 3,
      "metadata": {
        "colab": {
          "base_uri": "https://localhost:8080/"
        },
        "id": "F6Mlz5YIKuad",
        "outputId": "67b13cce-cec8-41a2-822b-09cab2e07c48"
      },
      "outputs": [
        {
          "output_type": "stream",
          "name": "stdout",
          "text": [
            "Enter number of queens (N): 5\n",
            "Q . . . .\n",
            ". . . Q .\n",
            ". Q . . .\n",
            ". . . . Q\n",
            ". . Q . .\n"
          ]
        }
      ],
      "source": [
        "def print_solution(board):\n",
        "    for row in board:\n",
        "        print(\" \".join(\"Q\" if c else \".\" for c in row))\n",
        "\n",
        "def is_safe(board, row, col, N):\n",
        "    # Check left row\n",
        "    for i in range(col):\n",
        "        if board[row][i]:\n",
        "            return False\n",
        "\n",
        "    # Check upper diagonal on left side\n",
        "    for i, j in zip(range(row, -1, -1), range(col, -1, -1)):\n",
        "        if board[i][j]:\n",
        "            return False\n",
        "\n",
        "    # Check lower diagonal on left side\n",
        "    for i, j in zip(range(row, N), range(col, -1, -1)):\n",
        "        if board[i][j]:\n",
        "            return False\n",
        "\n",
        "    return True\n",
        "\n",
        "def solve_nq_util(board, col, N):\n",
        "    if col >= N:\n",
        "        return True\n",
        "\n",
        "    for i in range(N):\n",
        "        if is_safe(board, i, col, N):\n",
        "            board[i][col] = 1\n",
        "            if solve_nq_util(board, col + 1, N):\n",
        "                return True\n",
        "            board[i][col] = 0  # BACKTRACK\n",
        "\n",
        "    return False\n",
        "\n",
        "def solve_n_queens(N):\n",
        "    board = [[0] * N for _ in range(N)]\n",
        "    if not solve_nq_util(board, 0, N):\n",
        "        print(\"Solution does not exist.\")\n",
        "        return\n",
        "    print_solution(board)\n",
        "\n",
        "# Run the program\n",
        "n = int(input(\"Enter number of queens (N): \"))\n",
        "solve_n_queens(n)\n"
      ]
    },
    {
      "cell_type": "code",
      "source": [],
      "metadata": {
        "id": "Taj5g1iRLNgh"
      },
      "execution_count": null,
      "outputs": []
    }
  ]
}