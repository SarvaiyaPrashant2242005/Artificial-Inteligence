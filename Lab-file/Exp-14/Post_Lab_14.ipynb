{
  "nbformat": 4,
  "nbformat_minor": 0,
  "metadata": {
    "colab": {
      "provenance": []
    },
    "kernelspec": {
      "name": "python3",
      "display_name": "Python 3"
    },
    "language_info": {
      "name": "python"
    }
  },
  "cells": [
    {
      "cell_type": "code",
      "execution_count": 1,
      "metadata": {
        "id": "9zFqnUjpLw9r"
      },
      "outputs": [],
      "source": [
        "import numpy as np\n",
        "import random"
      ]
    },
    {
      "cell_type": "code",
      "source": [
        "# Parameters\n",
        "n_states = 6  # Maze with 6 states (0 to 5)\n",
        "actions = [0, 1]  # 0: left, 1: right\n",
        "q_table = np.zeros((n_states, len(actions)))\n",
        "alpha = 0.1  # learning rate\n",
        "gamma = 0.9  # discount\n",
        "epsilon = 0.9  # exploration"
      ],
      "metadata": {
        "id": "qDBh-62_LzGC"
      },
      "execution_count": 2,
      "outputs": []
    },
    {
      "cell_type": "code",
      "source": [
        "\n",
        "# Rewards\n",
        "rewards = [0, 0, 0, 0, 1, -1]  # 4 is goal, 5 is fire"
      ],
      "metadata": {
        "id": "Mq0y12OfL2CK"
      },
      "execution_count": 3,
      "outputs": []
    },
    {
      "cell_type": "code",
      "source": [
        "# Step function\n",
        "def step(state, action):\n",
        "    if state == 4 or state == 5:\n",
        "        return state, 0\n",
        "    if action == 0:  # left\n",
        "        next_state = max(0, state - 1)\n",
        "    else:  # right\n",
        "        next_state = min(5, state + 1)\n",
        "    return next_state, rewards[next_state]"
      ],
      "metadata": {
        "id": "_qoFDYsRL3xh"
      },
      "execution_count": 4,
      "outputs": []
    },
    {
      "cell_type": "code",
      "source": [
        "# Training\n",
        "for episode in range(200):\n",
        "    state = 0\n",
        "    while state not in [4, 5]:\n",
        "        if random.uniform(0, 1) < epsilon:\n",
        "            action = random.choice(actions)\n",
        "        else:\n",
        "            action = np.argmax(q_table[state])\n",
        "        next_state, reward = step(state, action)\n",
        "        q_table[state, action] = q_table[state, action] + alpha * (\n",
        "            reward + gamma * np.max(q_table[next_state]) - q_table[state, action]\n",
        "        )\n",
        "        state = next_state"
      ],
      "metadata": {
        "id": "S9hQdhGeL5Uo"
      },
      "execution_count": 5,
      "outputs": []
    },
    {
      "cell_type": "code",
      "source": [
        "# Test\n",
        "state = 0\n",
        "path = [state]\n",
        "while state not in [4, 5]:\n",
        "    action = np.argmax(q_table[state])\n",
        "    state, _ = step(state, action)\n",
        "    path.append(state)\n",
        "\n",
        "print(\"Learned Path:\", path)"
      ],
      "metadata": {
        "colab": {
          "base_uri": "https://localhost:8080/"
        },
        "id": "OiRhOsnfL7FJ",
        "outputId": "4e0cbf57-c25e-493f-81ab-be549e0a1626"
      },
      "execution_count": 6,
      "outputs": [
        {
          "output_type": "stream",
          "name": "stdout",
          "text": [
            "Learned Path: [0, 1, 2, 3, 4]\n"
          ]
        }
      ]
    },
    {
      "cell_type": "code",
      "source": [],
      "metadata": {
        "id": "vuQMvapLL-dO"
      },
      "execution_count": 6,
      "outputs": []
    }
  ]
}