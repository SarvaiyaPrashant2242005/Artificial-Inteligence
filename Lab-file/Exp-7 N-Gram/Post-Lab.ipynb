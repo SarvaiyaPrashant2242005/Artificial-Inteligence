{
  "nbformat": 4,
  "nbformat_minor": 0,
  "metadata": {
    "colab": {
      "provenance": []
    },
    "kernelspec": {
      "name": "python3",
      "display_name": "Python 3"
    },
    "language_info": {
      "name": "python"
    }
  },
  "cells": [
    {
      "cell_type": "code",
      "execution_count": 12,
      "metadata": {
        "colab": {
          "base_uri": "https://localhost:8080/",
          "height": 0
        },
        "id": "_H5rKkE09CPS",
        "outputId": "709c7e96-2747-40f5-aba1-13da687f9b8b"
      },
      "outputs": [
        {
          "output_type": "stream",
          "name": "stderr",
          "text": [
            "[nltk_data] Downloading package punkt_tab to /root/nltk_data...\n",
            "[nltk_data]   Unzipping tokenizers/punkt_tab.zip.\n"
          ]
        },
        {
          "output_type": "execute_result",
          "data": {
            "text/plain": [
              "True"
            ]
          },
          "metadata": {},
          "execution_count": 12
        }
      ],
      "source": [
        "import nltk\n",
        "from nltk.util import ngrams\n",
        "from collections import defaultdict, Counter\n",
        "import random\n",
        "\n",
        "import nltk\n",
        "nltk.download('punkt_tab')"
      ]
    },
    {
      "cell_type": "code",
      "source": [
        "# Sample text\n",
        "text = \"\"\"There was heavy rain yesterday. The sky was dark and the clouds were moving fast.\n",
        "There was heavy wind. Then it started raining heavily. The weather was unpredictable.\"\"\""
      ],
      "metadata": {
        "id": "EjzG039e9Ny5"
      },
      "execution_count": 13,
      "outputs": []
    },
    {
      "cell_type": "code",
      "source": [
        "tokens = nltk.word_tokenize(text.lower())"
      ],
      "metadata": {
        "id": "APVZtjEO9Q-A"
      },
      "execution_count": 14,
      "outputs": []
    },
    {
      "cell_type": "code",
      "source": [
        "bigrams = list(ngrams(tokens, 2))"
      ],
      "metadata": {
        "id": "6uU9sUGj9SZm"
      },
      "execution_count": 16,
      "outputs": []
    },
    {
      "cell_type": "code",
      "source": [
        "bigram_freq = defaultdict(Counter)\n",
        "for w1, w2 in bigrams:\n",
        "    bigram_freq[w1][w2] += 1"
      ],
      "metadata": {
        "id": "cGRs6MBaAi5L"
      },
      "execution_count": 17,
      "outputs": []
    },
    {
      "cell_type": "code",
      "source": [
        " #Function to predict next word based on seed word\n",
        "def predict_next_word(seed_word):\n",
        "    next_words = bigram_freq[seed_word]\n",
        "    if not next_words:\n",
        "        return \"No prediction\"\n",
        "    return next_words.most_common(1)[0][0]"
      ],
      "metadata": {
        "id": "7pCmNaY9Amti"
      },
      "execution_count": 18,
      "outputs": []
    },
    {
      "cell_type": "code",
      "source": [
        "#Try predictions\n",
        "print(\"Next word for 'heavy':\", predict_next_word('heavy'))\n",
        "print(\"Next word for 'there':\", predict_next_word('there'))\n",
        "print(\"Next word for 'was':\", predict_next_word('was'))"
      ],
      "metadata": {
        "colab": {
          "base_uri": "https://localhost:8080/",
          "height": 0
        },
        "id": "K8FgOmmqAoxq",
        "outputId": "cca8eb04-3d3f-4f39-ea0c-048c3b81aa35"
      },
      "execution_count": 19,
      "outputs": [
        {
          "output_type": "stream",
          "name": "stdout",
          "text": [
            "Next word for 'heavy': rain\n",
            "Next word for 'there': was\n",
            "Next word for 'was': heavy\n"
          ]
        }
      ]
    },
    {
      "cell_type": "code",
      "source": [],
      "metadata": {
        "id": "ZfDZo5KRArr7"
      },
      "execution_count": null,
      "outputs": []
    }
  ]
}